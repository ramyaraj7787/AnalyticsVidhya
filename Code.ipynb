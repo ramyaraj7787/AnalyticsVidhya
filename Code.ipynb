{
 "cells": [
  {
   "cell_type": "markdown",
   "id": "8c2c4876",
   "metadata": {},
   "source": [
    "## Problem Statement\n",
    "\n",
    "#### Decreasing the Customer Churn is a key goal for any business. Predicting Customer Churn (also known as Customer Attrition) represents an additional potential revenue source for any business. Customer Churn impacts the cost to the business. Higher Customer Churn leads to loss in revenue and the additional marketing costs involved with replacing those customers with new ones. \n",
    "\n",
    "#### In this challenge, as a data scientist of a bank, you are asked to analyze the past data and predict whether the customer will churn or not in the next 6 months. This would help the bank to have the right engagement with customers at the right time.\n",
    "\n",
    "## Objective\n",
    "\n",
    "#### Our objective is to build a machine learning model to predict whether the customer will churn or not in the next six months.\n",
    "\n"
   ]
  },
  {
   "cell_type": "markdown",
   "id": "b5fdd372",
   "metadata": {},
   "source": [
    "### Importing Libraries"
   ]
  },
  {
   "cell_type": "code",
   "execution_count": 1,
   "id": "066dfad1",
   "metadata": {},
   "outputs": [],
   "source": [
    "import numpy as np\n",
    "import pandas as pd\n",
    "import seaborn as sns\n",
    "import matplotlib.pyplot as plt\n",
    "import sklearn.metrics as metrics\n",
    "\n",
    "import warnings \n",
    "warnings.filterwarnings('ignore')"
   ]
  },
  {
   "cell_type": "code",
   "execution_count": 2,
   "id": "08d2d848",
   "metadata": {},
   "outputs": [],
   "source": [
    "trainData = pd.read_csv('train.csv')\n",
    "testData = pd.read_csv('test.csv')"
   ]
  },
  {
   "cell_type": "code",
   "execution_count": 3,
   "id": "04a05330",
   "metadata": {},
   "outputs": [
    {
     "data": {
      "text/html": [
       "<div>\n",
       "<style scoped>\n",
       "    .dataframe tbody tr th:only-of-type {\n",
       "        vertical-align: middle;\n",
       "    }\n",
       "\n",
       "    .dataframe tbody tr th {\n",
       "        vertical-align: top;\n",
       "    }\n",
       "\n",
       "    .dataframe thead th {\n",
       "        text-align: right;\n",
       "    }\n",
       "</style>\n",
       "<table border=\"1\" class=\"dataframe\">\n",
       "  <thead>\n",
       "    <tr style=\"text-align: right;\">\n",
       "      <th></th>\n",
       "      <th>ID</th>\n",
       "      <th>Age</th>\n",
       "      <th>Gender</th>\n",
       "      <th>Income</th>\n",
       "      <th>Balance</th>\n",
       "      <th>Vintage</th>\n",
       "      <th>Transaction_Status</th>\n",
       "      <th>Product_Holdings</th>\n",
       "      <th>Credit_Card</th>\n",
       "      <th>Credit_Category</th>\n",
       "      <th>Is_Churn</th>\n",
       "    </tr>\n",
       "  </thead>\n",
       "  <tbody>\n",
       "    <tr>\n",
       "      <th>0</th>\n",
       "      <td>84e2fcc9</td>\n",
       "      <td>36</td>\n",
       "      <td>Female</td>\n",
       "      <td>5L - 10L</td>\n",
       "      <td>563266.44</td>\n",
       "      <td>4</td>\n",
       "      <td>0</td>\n",
       "      <td>1</td>\n",
       "      <td>0</td>\n",
       "      <td>Average</td>\n",
       "      <td>1</td>\n",
       "    </tr>\n",
       "    <tr>\n",
       "      <th>1</th>\n",
       "      <td>57fea15e</td>\n",
       "      <td>53</td>\n",
       "      <td>Female</td>\n",
       "      <td>Less than 5L</td>\n",
       "      <td>875572.11</td>\n",
       "      <td>2</td>\n",
       "      <td>1</td>\n",
       "      <td>1</td>\n",
       "      <td>1</td>\n",
       "      <td>Poor</td>\n",
       "      <td>0</td>\n",
       "    </tr>\n",
       "    <tr>\n",
       "      <th>2</th>\n",
       "      <td>8df34ef3</td>\n",
       "      <td>35</td>\n",
       "      <td>Female</td>\n",
       "      <td>More than 15L</td>\n",
       "      <td>701607.06</td>\n",
       "      <td>2</td>\n",
       "      <td>1</td>\n",
       "      <td>2</td>\n",
       "      <td>0</td>\n",
       "      <td>Poor</td>\n",
       "      <td>0</td>\n",
       "    </tr>\n",
       "    <tr>\n",
       "      <th>3</th>\n",
       "      <td>c5c0788b</td>\n",
       "      <td>43</td>\n",
       "      <td>Female</td>\n",
       "      <td>More than 15L</td>\n",
       "      <td>1393922.16</td>\n",
       "      <td>0</td>\n",
       "      <td>1</td>\n",
       "      <td>2</td>\n",
       "      <td>1</td>\n",
       "      <td>Poor</td>\n",
       "      <td>1</td>\n",
       "    </tr>\n",
       "    <tr>\n",
       "      <th>4</th>\n",
       "      <td>951d69c4</td>\n",
       "      <td>39</td>\n",
       "      <td>Female</td>\n",
       "      <td>More than 15L</td>\n",
       "      <td>893146.23</td>\n",
       "      <td>1</td>\n",
       "      <td>1</td>\n",
       "      <td>1</td>\n",
       "      <td>1</td>\n",
       "      <td>Good</td>\n",
       "      <td>1</td>\n",
       "    </tr>\n",
       "  </tbody>\n",
       "</table>\n",
       "</div>"
      ],
      "text/plain": [
       "         ID  Age  Gender         Income     Balance  Vintage  \\\n",
       "0  84e2fcc9   36  Female       5L - 10L   563266.44        4   \n",
       "1  57fea15e   53  Female   Less than 5L   875572.11        2   \n",
       "2  8df34ef3   35  Female  More than 15L   701607.06        2   \n",
       "3  c5c0788b   43  Female  More than 15L  1393922.16        0   \n",
       "4  951d69c4   39  Female  More than 15L   893146.23        1   \n",
       "\n",
       "   Transaction_Status Product_Holdings  Credit_Card Credit_Category  Is_Churn  \n",
       "0                   0                1            0         Average         1  \n",
       "1                   1                1            1            Poor         0  \n",
       "2                   1                2            0            Poor         0  \n",
       "3                   1                2            1            Poor         1  \n",
       "4                   1                1            1            Good         1  "
      ]
     },
     "execution_count": 3,
     "metadata": {},
     "output_type": "execute_result"
    }
   ],
   "source": [
    "trainData.head()"
   ]
  },
  {
   "cell_type": "code",
   "execution_count": 4,
   "id": "b1cc30dc",
   "metadata": {},
   "outputs": [
    {
     "data": {
      "text/html": [
       "<div>\n",
       "<style scoped>\n",
       "    .dataframe tbody tr th:only-of-type {\n",
       "        vertical-align: middle;\n",
       "    }\n",
       "\n",
       "    .dataframe tbody tr th {\n",
       "        vertical-align: top;\n",
       "    }\n",
       "\n",
       "    .dataframe thead th {\n",
       "        text-align: right;\n",
       "    }\n",
       "</style>\n",
       "<table border=\"1\" class=\"dataframe\">\n",
       "  <thead>\n",
       "    <tr style=\"text-align: right;\">\n",
       "      <th></th>\n",
       "      <th>ID</th>\n",
       "      <th>Age</th>\n",
       "      <th>Gender</th>\n",
       "      <th>Income</th>\n",
       "      <th>Balance</th>\n",
       "      <th>Vintage</th>\n",
       "      <th>Transaction_Status</th>\n",
       "      <th>Product_Holdings</th>\n",
       "      <th>Credit_Card</th>\n",
       "      <th>Credit_Category</th>\n",
       "      <th>Is_Churn</th>\n",
       "    </tr>\n",
       "  </thead>\n",
       "  <tbody>\n",
       "    <tr>\n",
       "      <th>count</th>\n",
       "      <td>6650</td>\n",
       "      <td>6650.000000</td>\n",
       "      <td>6650</td>\n",
       "      <td>6650</td>\n",
       "      <td>6.650000e+03</td>\n",
       "      <td>6650.000000</td>\n",
       "      <td>6650.000000</td>\n",
       "      <td>6650</td>\n",
       "      <td>6650.000000</td>\n",
       "      <td>6650</td>\n",
       "      <td>6650.000000</td>\n",
       "    </tr>\n",
       "    <tr>\n",
       "      <th>unique</th>\n",
       "      <td>6650</td>\n",
       "      <td>NaN</td>\n",
       "      <td>2</td>\n",
       "      <td>4</td>\n",
       "      <td>NaN</td>\n",
       "      <td>NaN</td>\n",
       "      <td>NaN</td>\n",
       "      <td>3</td>\n",
       "      <td>NaN</td>\n",
       "      <td>3</td>\n",
       "      <td>NaN</td>\n",
       "    </tr>\n",
       "    <tr>\n",
       "      <th>top</th>\n",
       "      <td>84e2fcc9</td>\n",
       "      <td>NaN</td>\n",
       "      <td>Male</td>\n",
       "      <td>10L - 15L</td>\n",
       "      <td>NaN</td>\n",
       "      <td>NaN</td>\n",
       "      <td>NaN</td>\n",
       "      <td>1</td>\n",
       "      <td>NaN</td>\n",
       "      <td>Poor</td>\n",
       "      <td>NaN</td>\n",
       "    </tr>\n",
       "    <tr>\n",
       "      <th>freq</th>\n",
       "      <td>1</td>\n",
       "      <td>NaN</td>\n",
       "      <td>3612</td>\n",
       "      <td>1885</td>\n",
       "      <td>NaN</td>\n",
       "      <td>NaN</td>\n",
       "      <td>NaN</td>\n",
       "      <td>3200</td>\n",
       "      <td>NaN</td>\n",
       "      <td>3076</td>\n",
       "      <td>NaN</td>\n",
       "    </tr>\n",
       "    <tr>\n",
       "      <th>mean</th>\n",
       "      <td>NaN</td>\n",
       "      <td>41.130226</td>\n",
       "      <td>NaN</td>\n",
       "      <td>NaN</td>\n",
       "      <td>8.045954e+05</td>\n",
       "      <td>2.250226</td>\n",
       "      <td>0.515789</td>\n",
       "      <td>NaN</td>\n",
       "      <td>0.664361</td>\n",
       "      <td>NaN</td>\n",
       "      <td>0.231128</td>\n",
       "    </tr>\n",
       "    <tr>\n",
       "      <th>std</th>\n",
       "      <td>NaN</td>\n",
       "      <td>9.685747</td>\n",
       "      <td>NaN</td>\n",
       "      <td>NaN</td>\n",
       "      <td>5.157549e+05</td>\n",
       "      <td>1.458795</td>\n",
       "      <td>0.499788</td>\n",
       "      <td>NaN</td>\n",
       "      <td>0.472249</td>\n",
       "      <td>NaN</td>\n",
       "      <td>0.421586</td>\n",
       "    </tr>\n",
       "    <tr>\n",
       "      <th>min</th>\n",
       "      <td>NaN</td>\n",
       "      <td>21.000000</td>\n",
       "      <td>NaN</td>\n",
       "      <td>NaN</td>\n",
       "      <td>6.300000e+01</td>\n",
       "      <td>0.000000</td>\n",
       "      <td>0.000000</td>\n",
       "      <td>NaN</td>\n",
       "      <td>0.000000</td>\n",
       "      <td>NaN</td>\n",
       "      <td>0.000000</td>\n",
       "    </tr>\n",
       "    <tr>\n",
       "      <th>25%</th>\n",
       "      <td>NaN</td>\n",
       "      <td>34.000000</td>\n",
       "      <td>NaN</td>\n",
       "      <td>NaN</td>\n",
       "      <td>3.922642e+05</td>\n",
       "      <td>1.000000</td>\n",
       "      <td>0.000000</td>\n",
       "      <td>NaN</td>\n",
       "      <td>0.000000</td>\n",
       "      <td>NaN</td>\n",
       "      <td>0.000000</td>\n",
       "    </tr>\n",
       "    <tr>\n",
       "      <th>50%</th>\n",
       "      <td>NaN</td>\n",
       "      <td>40.000000</td>\n",
       "      <td>NaN</td>\n",
       "      <td>NaN</td>\n",
       "      <td>7.649386e+05</td>\n",
       "      <td>2.000000</td>\n",
       "      <td>1.000000</td>\n",
       "      <td>NaN</td>\n",
       "      <td>1.000000</td>\n",
       "      <td>NaN</td>\n",
       "      <td>0.000000</td>\n",
       "    </tr>\n",
       "    <tr>\n",
       "      <th>75%</th>\n",
       "      <td>NaN</td>\n",
       "      <td>47.000000</td>\n",
       "      <td>NaN</td>\n",
       "      <td>NaN</td>\n",
       "      <td>1.147124e+06</td>\n",
       "      <td>3.000000</td>\n",
       "      <td>1.000000</td>\n",
       "      <td>NaN</td>\n",
       "      <td>1.000000</td>\n",
       "      <td>NaN</td>\n",
       "      <td>0.000000</td>\n",
       "    </tr>\n",
       "    <tr>\n",
       "      <th>max</th>\n",
       "      <td>NaN</td>\n",
       "      <td>72.000000</td>\n",
       "      <td>NaN</td>\n",
       "      <td>NaN</td>\n",
       "      <td>2.436616e+06</td>\n",
       "      <td>5.000000</td>\n",
       "      <td>1.000000</td>\n",
       "      <td>NaN</td>\n",
       "      <td>1.000000</td>\n",
       "      <td>NaN</td>\n",
       "      <td>1.000000</td>\n",
       "    </tr>\n",
       "  </tbody>\n",
       "</table>\n",
       "</div>"
      ],
      "text/plain": [
       "              ID          Age Gender     Income       Balance      Vintage  \\\n",
       "count       6650  6650.000000   6650       6650  6.650000e+03  6650.000000   \n",
       "unique      6650          NaN      2          4           NaN          NaN   \n",
       "top     84e2fcc9          NaN   Male  10L - 15L           NaN          NaN   \n",
       "freq           1          NaN   3612       1885           NaN          NaN   \n",
       "mean         NaN    41.130226    NaN        NaN  8.045954e+05     2.250226   \n",
       "std          NaN     9.685747    NaN        NaN  5.157549e+05     1.458795   \n",
       "min          NaN    21.000000    NaN        NaN  6.300000e+01     0.000000   \n",
       "25%          NaN    34.000000    NaN        NaN  3.922642e+05     1.000000   \n",
       "50%          NaN    40.000000    NaN        NaN  7.649386e+05     2.000000   \n",
       "75%          NaN    47.000000    NaN        NaN  1.147124e+06     3.000000   \n",
       "max          NaN    72.000000    NaN        NaN  2.436616e+06     5.000000   \n",
       "\n",
       "        Transaction_Status Product_Holdings  Credit_Card Credit_Category  \\\n",
       "count          6650.000000             6650  6650.000000            6650   \n",
       "unique                 NaN                3          NaN               3   \n",
       "top                    NaN                1          NaN            Poor   \n",
       "freq                   NaN             3200          NaN            3076   \n",
       "mean              0.515789              NaN     0.664361             NaN   \n",
       "std               0.499788              NaN     0.472249             NaN   \n",
       "min               0.000000              NaN     0.000000             NaN   \n",
       "25%               0.000000              NaN     0.000000             NaN   \n",
       "50%               1.000000              NaN     1.000000             NaN   \n",
       "75%               1.000000              NaN     1.000000             NaN   \n",
       "max               1.000000              NaN     1.000000             NaN   \n",
       "\n",
       "           Is_Churn  \n",
       "count   6650.000000  \n",
       "unique          NaN  \n",
       "top             NaN  \n",
       "freq            NaN  \n",
       "mean       0.231128  \n",
       "std        0.421586  \n",
       "min        0.000000  \n",
       "25%        0.000000  \n",
       "50%        0.000000  \n",
       "75%        0.000000  \n",
       "max        1.000000  "
      ]
     },
     "execution_count": 4,
     "metadata": {},
     "output_type": "execute_result"
    }
   ],
   "source": [
    "trainData.describe(include = 'all')"
   ]
  },
  {
   "cell_type": "code",
   "execution_count": 5,
   "id": "1b54d86d",
   "metadata": {},
   "outputs": [
    {
     "name": "stdout",
     "output_type": "stream",
     "text": [
      "<class 'pandas.core.frame.DataFrame'>\n",
      "RangeIndex: 6650 entries, 0 to 6649\n",
      "Data columns (total 11 columns):\n",
      " #   Column              Non-Null Count  Dtype  \n",
      "---  ------              --------------  -----  \n",
      " 0   ID                  6650 non-null   object \n",
      " 1   Age                 6650 non-null   int64  \n",
      " 2   Gender              6650 non-null   object \n",
      " 3   Income              6650 non-null   object \n",
      " 4   Balance             6650 non-null   float64\n",
      " 5   Vintage             6650 non-null   int64  \n",
      " 6   Transaction_Status  6650 non-null   int64  \n",
      " 7   Product_Holdings    6650 non-null   object \n",
      " 8   Credit_Card         6650 non-null   int64  \n",
      " 9   Credit_Category     6650 non-null   object \n",
      " 10  Is_Churn            6650 non-null   int64  \n",
      "dtypes: float64(1), int64(5), object(5)\n",
      "memory usage: 571.6+ KB\n"
     ]
    }
   ],
   "source": [
    "trainData.info()"
   ]
  },
  {
   "cell_type": "code",
   "execution_count": 6,
   "id": "6a661d0d",
   "metadata": {},
   "outputs": [],
   "source": [
    "xx = trainData['Is_Churn'].value_counts().reset_index()"
   ]
  },
  {
   "cell_type": "code",
   "execution_count": 7,
   "id": "60432fa1",
   "metadata": {},
   "outputs": [
    {
     "data": {
      "text/plain": [
       "<AxesSubplot:xlabel='index', ylabel='Is_Churn'>"
      ]
     },
     "execution_count": 7,
     "metadata": {},
     "output_type": "execute_result"
    },
    {
     "data": {
      "image/png": "[encoded data removed]",
      "text/plain": [
       "<Figure size 432x288 with 1 Axes>"
      ]
     },
     "metadata": {
      "needs_background": "light"
     },
     "output_type": "display_data"
    }
   ],
   "source": [
    "sns.barplot(x=\"index\", y=\"Is_Churn\", data=xx)"
   ]
  },
  {
   "cell_type": "markdown",
   "id": "8b17079f",
   "metadata": {},
   "source": [
    "#### There is an imbalance in the dataset"
   ]
  },
  {
   "cell_type": "code",
   "execution_count": 8,
   "id": "2c1ef8cd",
   "metadata": {},
   "outputs": [],
   "source": [
    "class_count_0, class_count_1 = trainData['Is_Churn'].value_counts()\n",
    "\n",
    "class_0 = trainData[trainData['Is_Churn'] == 0]\n",
    "class_1 = trainData[trainData['Is_Churn'] == 1]"
   ]
  },
  {
   "cell_type": "code",
   "execution_count": 9,
   "id": "32e9f229",
   "metadata": {},
   "outputs": [],
   "source": [
    "class_0_under = class_0.sample(class_count_1)"
   ]
  },
  {
   "cell_type": "code",
   "execution_count": 10,
   "id": "0ca84297",
   "metadata": {},
   "outputs": [
    {
     "name": "stdout",
     "output_type": "stream",
     "text": [
      "total class of 1 and 0: 0    1537\n",
      "1    1537\n",
      "Name: Is_Churn, dtype: int64\n"
     ]
    },
    {
     "data": {
      "text/plain": [
       "<AxesSubplot:title={'center':'count (target)'}>"
      ]
     },
     "execution_count": 10,
     "metadata": {},
     "output_type": "execute_result"
    },
    {
     "data": {
      "image/png": "[encoded data removed]",
      "text/plain": [
       "<Figure size 432x288 with 1 Axes>"
      ]
     },
     "metadata": {
      "needs_background": "light"
     },
     "output_type": "display_data"
    }
   ],
   "source": [
    "trainData = pd.concat([class_0_under, class_1], axis=0)\n",
    "\n",
    "print(\"total class of 1 and 0:\",trainData['Is_Churn'].value_counts())# plot the count after under-sampeling\n",
    "trainData['Is_Churn'].value_counts().plot(kind='bar', title='count (target)')"
   ]
  },
  {
   "cell_type": "markdown",
   "id": "2f174022",
   "metadata": {},
   "source": [
    "#### There is no missing values in the dataset.\n",
    "#### Now we should convert the categorical features into numerical one."
   ]
  },
  {
   "cell_type": "code",
   "execution_count": 11,
   "id": "3e215fe5",
   "metadata": {},
   "outputs": [],
   "source": [
    "from sklearn.preprocessing import LabelEncoder\n",
    "\n",
    "le = LabelEncoder()"
   ]
  },
  {
   "cell_type": "code",
   "execution_count": 12,
   "id": "00e2354d",
   "metadata": {},
   "outputs": [],
   "source": [
    "trainData['Gender'] = le.fit_transform(trainData['Gender'])\n",
    "testData['Gender'] = le.fit_transform(testData['Gender'])"
   ]
  },
  {
   "cell_type": "code",
   "execution_count": 13,
   "id": "4d239201",
   "metadata": {},
   "outputs": [],
   "source": [
    "trainData['Credit_Category'] = le.fit_transform(trainData['Credit_Category'])\n",
    "testData['Credit_Category'] = le.fit_transform(testData['Credit_Category'])"
   ]
  },
  {
   "cell_type": "code",
   "execution_count": 14,
   "id": "eb81051d",
   "metadata": {},
   "outputs": [],
   "source": [
    "trainData['Income'] = le.fit_transform(trainData['Income'])\n",
    "testData['Income'] = le.fit_transform(testData['Income'])"
   ]
  },
  {
   "cell_type": "code",
   "execution_count": 15,
   "id": "1e384764",
   "metadata": {},
   "outputs": [],
   "source": [
    "trainData['Product_Holdings'] = le.fit_transform(trainData['Product_Holdings'])\n",
    "testData['Product_Holdings'] = le.fit_transform(testData['Product_Holdings'])"
   ]
  },
  {
   "cell_type": "code",
   "execution_count": 16,
   "id": "a4470aa7",
   "metadata": {},
   "outputs": [
    {
     "data": {
      "text/html": [
       "<div>\n",
       "<style scoped>\n",
       "    .dataframe tbody tr th:only-of-type {\n",
       "        vertical-align: middle;\n",
       "    }\n",
       "\n",
       "    .dataframe tbody tr th {\n",
       "        vertical-align: top;\n",
       "    }\n",
       "\n",
       "    .dataframe thead th {\n",
       "        text-align: right;\n",
       "    }\n",
       "</style>\n",
       "<table border=\"1\" class=\"dataframe\">\n",
       "  <thead>\n",
       "    <tr style=\"text-align: right;\">\n",
       "      <th></th>\n",
       "      <th>ID</th>\n",
       "      <th>Age</th>\n",
       "      <th>Gender</th>\n",
       "      <th>Income</th>\n",
       "      <th>Balance</th>\n",
       "      <th>Vintage</th>\n",
       "      <th>Transaction_Status</th>\n",
       "      <th>Product_Holdings</th>\n",
       "      <th>Credit_Card</th>\n",
       "      <th>Credit_Category</th>\n",
       "      <th>Is_Churn</th>\n",
       "    </tr>\n",
       "  </thead>\n",
       "  <tbody>\n",
       "    <tr>\n",
       "      <th>2017</th>\n",
       "      <td>dabc3052</td>\n",
       "      <td>55</td>\n",
       "      <td>0</td>\n",
       "      <td>3</td>\n",
       "      <td>490490.10</td>\n",
       "      <td>0</td>\n",
       "      <td>1</td>\n",
       "      <td>1</td>\n",
       "      <td>1</td>\n",
       "      <td>2</td>\n",
       "      <td>0</td>\n",
       "    </tr>\n",
       "    <tr>\n",
       "      <th>6274</th>\n",
       "      <td>95a88740</td>\n",
       "      <td>42</td>\n",
       "      <td>0</td>\n",
       "      <td>1</td>\n",
       "      <td>529171.02</td>\n",
       "      <td>1</td>\n",
       "      <td>0</td>\n",
       "      <td>1</td>\n",
       "      <td>1</td>\n",
       "      <td>2</td>\n",
       "      <td>0</td>\n",
       "    </tr>\n",
       "    <tr>\n",
       "      <th>148</th>\n",
       "      <td>c6d616ed</td>\n",
       "      <td>29</td>\n",
       "      <td>0</td>\n",
       "      <td>2</td>\n",
       "      <td>1223332.20</td>\n",
       "      <td>2</td>\n",
       "      <td>1</td>\n",
       "      <td>0</td>\n",
       "      <td>0</td>\n",
       "      <td>1</td>\n",
       "      <td>0</td>\n",
       "    </tr>\n",
       "    <tr>\n",
       "      <th>2201</th>\n",
       "      <td>d07c509c</td>\n",
       "      <td>43</td>\n",
       "      <td>0</td>\n",
       "      <td>2</td>\n",
       "      <td>138942.00</td>\n",
       "      <td>3</td>\n",
       "      <td>0</td>\n",
       "      <td>1</td>\n",
       "      <td>1</td>\n",
       "      <td>2</td>\n",
       "      <td>0</td>\n",
       "    </tr>\n",
       "    <tr>\n",
       "      <th>2928</th>\n",
       "      <td>8bc3eec9</td>\n",
       "      <td>54</td>\n",
       "      <td>0</td>\n",
       "      <td>3</td>\n",
       "      <td>829398.51</td>\n",
       "      <td>1</td>\n",
       "      <td>0</td>\n",
       "      <td>1</td>\n",
       "      <td>1</td>\n",
       "      <td>1</td>\n",
       "      <td>0</td>\n",
       "    </tr>\n",
       "  </tbody>\n",
       "</table>\n",
       "</div>"
      ],
      "text/plain": [
       "            ID  Age  Gender  Income     Balance  Vintage  Transaction_Status  \\\n",
       "2017  dabc3052   55       0       3   490490.10        0                   1   \n",
       "6274  95a88740   42       0       1   529171.02        1                   0   \n",
       "148   c6d616ed   29       0       2  1223332.20        2                   1   \n",
       "2201  d07c509c   43       0       2   138942.00        3                   0   \n",
       "2928  8bc3eec9   54       0       3   829398.51        1                   0   \n",
       "\n",
       "      Product_Holdings  Credit_Card  Credit_Category  Is_Churn  \n",
       "2017                 1            1                2         0  \n",
       "6274                 1            1                2         0  \n",
       "148                  0            0                1         0  \n",
       "2201                 1            1                2         0  \n",
       "2928                 1            1                1         0  "
      ]
     },
     "execution_count": 16,
     "metadata": {},
     "output_type": "execute_result"
    }
   ],
   "source": [
    "trainData.head()"
   ]
  },
  {
   "cell_type": "code",
   "execution_count": 17,
   "id": "efcf4d07",
   "metadata": {},
   "outputs": [],
   "source": [
    "train_features = trainData.drop(['ID', 'Is_Churn'], axis=1)\n",
    "train_target = trainData['Is_Churn']"
   ]
  },
  {
   "cell_type": "code",
   "execution_count": 18,
   "id": "be522b96",
   "metadata": {},
   "outputs": [],
   "source": [
    "test_features = testData.drop(['ID'], axis=1)"
   ]
  },
  {
   "cell_type": "markdown",
   "id": "59f146da",
   "metadata": {},
   "source": [
    "### Scaling the Data"
   ]
  },
  {
   "cell_type": "code",
   "execution_count": 19,
   "id": "c4904571",
   "metadata": {},
   "outputs": [],
   "source": [
    "from sklearn.preprocessing import MinMaxScaler\n",
    "\n",
    "scaler = MinMaxScaler()\n",
    "x_scaled = scaler.fit_transform(train_features)\n",
    "features_scaled = pd.DataFrame(x_scaled, columns=train_features.columns)\n",
    "\n",
    "scaler = MinMaxScaler()\n",
    "x_test_scaled = scaler.fit_transform(test_features)\n",
    "test_features_scaled = pd.DataFrame(x_test_scaled, columns=test_features.columns)"
   ]
  },
  {
   "cell_type": "markdown",
   "id": "e7684db0",
   "metadata": {},
   "source": [
    "### Spliting the data"
   ]
  },
  {
   "cell_type": "code",
   "execution_count": 20,
   "id": "3abff85e",
   "metadata": {},
   "outputs": [],
   "source": [
    "from sklearn.model_selection import train_test_split\n",
    "\n",
    "x_train, x_test, y_train, y_test = train_test_split(features_scaled, train_target, test_size = 0.3, random_state = 5)"
   ]
  },
  {
   "cell_type": "markdown",
   "id": "3c330560",
   "metadata": {},
   "source": [
    "### Model Training"
   ]
  },
  {
   "cell_type": "code",
   "execution_count": 21,
   "id": "5fd68ec6",
   "metadata": {},
   "outputs": [],
   "source": [
    "from sklearn.linear_model import LogisticRegression\n",
    "from sklearn.ensemble import RandomForestClassifier, GradientBoostingClassifier, AdaBoostClassifier\n",
    "from sklearn.tree import DecisionTreeClassifier\n",
    "from sklearn.neighbors import KNeighborsClassifier\n",
    "from sklearn.metrics import accuracy_score, f1_score\n",
    "\n",
    "results = {} #dictionary to store accuracy and f1-score of models"
   ]
  },
  {
   "cell_type": "markdown",
   "id": "9fc290b2",
   "metadata": {},
   "source": [
    "#### Logistic Regression\n"
   ]
  },
  {
   "cell_type": "code",
   "execution_count": 22,
   "id": "adc645ea",
   "metadata": {},
   "outputs": [
    {
     "name": "stdout",
     "output_type": "stream",
     "text": [
      "f1_score :  0.581196279787094\n"
     ]
    }
   ],
   "source": [
    "lr = LogisticRegression()\n",
    "lr.fit(x_train, y_train)\n",
    "pred_lr = lr.predict(x_test)\n",
    "\n",
    "f1_lr = f1_score(y_test, pred_lr, average='macro')\n",
    "results['Logistic Regression'] = [f1_lr]\n",
    "\n",
    "print('f1_score : ', f1_lr)"
   ]
  },
  {
   "cell_type": "markdown",
   "id": "8b44f587",
   "metadata": {},
   "source": [
    "#### K Nearest Neighbour"
   ]
  },
  {
   "cell_type": "code",
   "execution_count": 23,
   "id": "e86692a8",
   "metadata": {},
   "outputs": [
    {
     "name": "stdout",
     "output_type": "stream",
     "text": [
      "f1_score:  0.525415332312807\n"
     ]
    }
   ],
   "source": [
    "knn = KNeighborsClassifier(n_neighbors = 3)\n",
    "knn.fit(x_train,y_train)\n",
    "pred_knn = knn.predict(x_test)\n",
    "\n",
    "f1_knn = f1_score(y_test, pred_knn, average='macro')\n",
    "results['K-Nearest Neighbors'] = [f1_knn]\n",
    "\n",
    "print('f1_score: ', f1_knn)"
   ]
  },
  {
   "cell_type": "markdown",
   "id": "1f6d4ab7",
   "metadata": {},
   "source": [
    "#### Decision Tree"
   ]
  },
  {
   "cell_type": "code",
   "execution_count": 24,
   "id": "4ec98ae8",
   "metadata": {},
   "outputs": [
    {
     "name": "stdout",
     "output_type": "stream",
     "text": [
      "f1_score:   0.5351326919351715\n"
     ]
    }
   ],
   "source": [
    "tree = DecisionTreeClassifier()\n",
    "tree.fit(x_train,y_train)\n",
    "pred_tree = tree.predict(x_test)\n",
    "\n",
    "f1_tree = f1_score(y_test, pred_tree, average='macro')\n",
    "results['Decision Tree'] = [f1_tree]\n",
    "\n",
    "print('f1_score:  ', f1_tree)"
   ]
  },
  {
   "cell_type": "markdown",
   "id": "857b2378",
   "metadata": {},
   "source": [
    "#### Random Forest"
   ]
  },
  {
   "cell_type": "code",
   "execution_count": 25,
   "id": "fd5903ea",
   "metadata": {
    "scrolled": true
   },
   "outputs": [
    {
     "name": "stdout",
     "output_type": "stream",
     "text": [
      "f1_score:   0.5915013459274103\n"
     ]
    }
   ],
   "source": [
    "rf = RandomForestClassifier(n_estimators=1000,max_depth=8,random_state=33)\n",
    "rf.fit(x_train,y_train)\n",
    "pred_rf = rf.predict(x_test)\n",
    "\n",
    "f1_rf = f1_score(y_test, pred_rf, average='macro')\n",
    "results['Random Forest'] = [f1_rf]\n",
    "\n",
    "print('f1_score:  ', f1_rf)"
   ]
  },
  {
   "cell_type": "markdown",
   "id": "c381b12f",
   "metadata": {},
   "source": [
    "#### Ada Boost"
   ]
  },
  {
   "cell_type": "code",
   "execution_count": 26,
   "id": "a2867a85",
   "metadata": {},
   "outputs": [
    {
     "name": "stdout",
     "output_type": "stream",
     "text": [
      "f1_score :   0.5741165365202474\n"
     ]
    }
   ],
   "source": [
    "abc = AdaBoostClassifier()\n",
    "abc.fit(x_train, y_train)\n",
    "pred_abc = abc.predict(x_test)\n",
    "\n",
    "f1_abc = f1_score(y_test, pred_abc, average='macro')\n",
    "results['AdaBoost'] = [f1_abc]\n",
    "\n",
    "print('f1_score :  ', f1_abc)"
   ]
  },
  {
   "cell_type": "markdown",
   "id": "b4229791",
   "metadata": {},
   "source": [
    "### Hyperparameter Tuning and Fitting the model\n"
   ]
  },
  {
   "cell_type": "code",
   "execution_count": 27,
   "id": "c9afd8ff",
   "metadata": {},
   "outputs": [],
   "source": [
    "from sklearn.model_selection import GridSearchCV\n",
    "from sklearn.model_selection import RandomizedSearchCV"
   ]
  },
  {
   "cell_type": "markdown",
   "id": "2984d60a",
   "metadata": {},
   "source": [
    "#### Logistic Regression"
   ]
  },
  {
   "cell_type": "code",
   "execution_count": 28,
   "id": "f4628022",
   "metadata": {},
   "outputs": [
    {
     "name": "stdout",
     "output_type": "stream",
     "text": [
      "Fitting 2 folds for each of 560 candidates, totalling 1120 fits\n"
     ]
    },
    {
     "data": {
      "text/plain": [
       "LogisticRegression(max_iter=1000, penalty='l1', solver='saga')"
      ]
     },
     "execution_count": 28,
     "metadata": {},
     "output_type": "execute_result"
    }
   ],
   "source": [
    "grid = [\n",
    "    {\n",
    "        'penalty':['l1', 'l2', 'elasticnet','none'],\n",
    "        'C': np.logspace(-3,3,7),\n",
    "        'solver':['lbfs', 'newton_cg', 'libilinear', 'sag', 'saga'],\n",
    "        'max_iter':[100, 1000, 2500, 5000]\n",
    "    }\n",
    "]\n",
    "\n",
    "lr1 = LogisticRegression()\n",
    "clf = GridSearchCV(lr1, grid, cv=2, verbose=True, n_jobs=-1)\n",
    "best_clf = clf.fit(x_train, y_train)\n",
    "best_clf.best_estimator_"
   ]
  },
  {
   "cell_type": "code",
   "execution_count": 57,
   "id": "611ace18",
   "metadata": {},
   "outputs": [
    {
     "name": "stdout",
     "output_type": "stream",
     "text": [
      "f1_score:   0.5802104817811624\n"
     ]
    }
   ],
   "source": [
    "lr = LogisticRegression(max_iter=1000, penalty='l1', solver='saga')\n",
    "lr.fit(x_train, y_train)\n",
    "pred_lr = lr.predict(x_test)\n",
    "\n",
    "f1_lr = f1_score(y_test, pred_lr, average='macro')\n",
    "\n",
    "print('f1_score:  ', f1_lr)"
   ]
  },
  {
   "cell_type": "code",
   "execution_count": 58,
   "id": "d52aea52",
   "metadata": {},
   "outputs": [],
   "source": [
    "lr = LogisticRegression(max_iter=1000, penalty='l1', solver='saga')\n",
    "lr.fit(x_train, y_train)\n",
    "\n",
    "pred_lr = lr.predict(test_features_scaled)"
   ]
  },
  {
   "cell_type": "code",
   "execution_count": 59,
   "id": "a74e8074",
   "metadata": {},
   "outputs": [],
   "source": [
    "df_lr = pd.DataFrame({'ID': testData['ID'],'Is_Churn': pred_lr})\n",
    "df_lr.to_csv('LRClassify.csv', index=False)"
   ]
  },
  {
   "cell_type": "markdown",
   "id": "407b9f38",
   "metadata": {},
   "source": [
    "#### K Nearest Neighbour"
   ]
  },
  {
   "cell_type": "code",
   "execution_count": 32,
   "id": "58135143",
   "metadata": {},
   "outputs": [
    {
     "name": "stdout",
     "output_type": "stream",
     "text": [
      "Fitting 10 folds for each of 49 candidates, totalling 490 fits\n"
     ]
    },
    {
     "data": {
      "text/plain": [
       "KNeighborsClassifier(n_neighbors=23)"
      ]
     },
     "execution_count": 32,
     "metadata": {},
     "output_type": "execute_result"
    }
   ],
   "source": [
    "grid = [{\"n_neighbors\":np.arange(1,50)}]\n",
    "\n",
    "clf_knn = GridSearchCV(KNeighborsClassifier(), param_grid=grid, cv=10, scoring='accuracy', return_train_score=False,verbose=1)\n",
    "best_clf_knn = clf_knn.fit(x_train, y_train)\n",
    "best_clf_knn.best_estimator_"
   ]
  },
  {
   "cell_type": "code",
   "execution_count": 60,
   "id": "14d26aec",
   "metadata": {},
   "outputs": [
    {
     "name": "stdout",
     "output_type": "stream",
     "text": [
      "f1_score :   0.5579501915708812\n"
     ]
    }
   ],
   "source": [
    "knn = KNeighborsClassifier(n_neighbors = 23)\n",
    "knn.fit(x_train,y_train)\n",
    "pred_knn = knn.predict(x_test)\n",
    "\n",
    "f1_knn = f1_score(y_test, pred_knn, average='macro')\n",
    "\n",
    "print('f1_score :  ', f1_knn)"
   ]
  },
  {
   "cell_type": "code",
   "execution_count": 61,
   "id": "2dbc7e8f",
   "metadata": {},
   "outputs": [],
   "source": [
    "knn = KNeighborsClassifier(n_neighbors = 23)\n",
    "knn.fit(x_train,y_train)\n",
    "\n",
    "pred_knn = knn.predict(test_features_scaled)"
   ]
  },
  {
   "cell_type": "code",
   "execution_count": 62,
   "id": "0475462f",
   "metadata": {},
   "outputs": [],
   "source": [
    "df_knn = pd.DataFrame({'ID': testData['ID'],'Is_Churn': pred_knn})\n",
    "df_knn.to_csv('KNNClassify.csv', index=False)"
   ]
  },
  {
   "cell_type": "markdown",
   "id": "736bf176",
   "metadata": {},
   "source": [
    "#### Decision Tree"
   ]
  },
  {
   "cell_type": "code",
   "execution_count": 36,
   "id": "99f242b7",
   "metadata": {},
   "outputs": [
    {
     "name": "stdout",
     "output_type": "stream",
     "text": [
      "0.612738261273826\n"
     ]
    }
   ],
   "source": [
    "grid_params = [{\n",
    "                   'criterion' : [\"gini\", \"entropy\"],\n",
    "                    'splitter' : [\"best\", \"random\"],\n",
    "                    'max_depth': np.arange(1, 10)\n",
    "}]\n",
    "\n",
    "datagrid_object = GridSearchCV(estimator=DecisionTreeClassifier(), param_grid = grid_params, scoring = 'accuracy', cv = 3, n_jobs = -1)\n",
    "datagrid_object.fit(x_train, y_train)\n",
    "print(datagrid_object.best_score_)"
   ]
  },
  {
   "cell_type": "code",
   "execution_count": 37,
   "id": "660a248d",
   "metadata": {},
   "outputs": [
    {
     "name": "stdout",
     "output_type": "stream",
     "text": [
      "{'criterion': 'entropy', 'max_depth': 3, 'splitter': 'random'}\n"
     ]
    }
   ],
   "source": [
    "print(datagrid_object.best_params_)"
   ]
  },
  {
   "cell_type": "code",
   "execution_count": 63,
   "id": "ab73d4d1",
   "metadata": {},
   "outputs": [
    {
     "name": "stdout",
     "output_type": "stream",
     "text": [
      "f1_score :   0.5869809559043744\n"
     ]
    }
   ],
   "source": [
    "tree = DecisionTreeClassifier(criterion='entropy', max_depth=3, splitter= 'random')\n",
    "tree.fit(x_train,y_train)\n",
    "pred_tree = tree.predict(x_test)\n",
    "\n",
    "f1_tree= f1_score(y_test, pred_tree, average='macro')\n",
    "\n",
    "print('f1_score :  ', f1_tree)"
   ]
  },
  {
   "cell_type": "code",
   "execution_count": 64,
   "id": "f4e9c857",
   "metadata": {},
   "outputs": [],
   "source": [
    "tree = DecisionTreeClassifier(criterion='entropy', max_depth=3, splitter= 'random')\n",
    "tree.fit(x_train,y_train)\n",
    "\n",
    "pred_tree = tree.predict(test_features_scaled)"
   ]
  },
  {
   "cell_type": "code",
   "execution_count": 65,
   "id": "b830a479",
   "metadata": {},
   "outputs": [],
   "source": [
    "df_tree = pd.DataFrame({'ID': testData['ID'],'Is_Churn': pred_tree})\n",
    "df_tree.to_csv('DTClassify.csv', index=False)"
   ]
  },
  {
   "cell_type": "markdown",
   "id": "0f632035",
   "metadata": {},
   "source": [
    "#### Random Forest"
   ]
  },
  {
   "cell_type": "code",
   "execution_count": 41,
   "id": "eb94e15d",
   "metadata": {},
   "outputs": [],
   "source": [
    "n_estimators = [int(x) for x in np.linspace(start = 200, stop = 2000, num = 10)]\n",
    "max_features = ['auto', 'sqrt']\n",
    "max_depth = [int(x) for x in np.linspace(10, 110, num = 11)]\n",
    "max_depth.append(None)\n",
    "min_samples_split = [2, 5, 10]\n",
    "min_samples_leaf = [1, 2, 4]\n",
    "bootstrap = [True, False]\n",
    "random_grid = {'n_estimators': n_estimators,\n",
    "               'max_features': max_features,\n",
    "               'max_depth': max_depth,\n",
    "               'min_samples_split': min_samples_split,\n",
    "               'min_samples_leaf': min_samples_leaf,\n",
    "               'bootstrap': bootstrap}"
   ]
  },
  {
   "cell_type": "code",
   "execution_count": 42,
   "id": "f3505941",
   "metadata": {},
   "outputs": [
    {
     "name": "stdout",
     "output_type": "stream",
     "text": [
      "Fitting 3 folds for each of 100 candidates, totalling 300 fits\n",
      "0.601115760111576\n"
     ]
    }
   ],
   "source": [
    "rf = RandomForestClassifier()\n",
    "rf_random = RandomizedSearchCV(estimator = rf, param_distributions = random_grid, n_iter = 100, cv = 3, verbose=2, random_state=42, n_jobs = -1)\n",
    "rf_random.fit(x_train, y_train)\n",
    "print(rf_random.best_score_)"
   ]
  },
  {
   "cell_type": "code",
   "execution_count": 43,
   "id": "4e06a609",
   "metadata": {},
   "outputs": [
    {
     "name": "stdout",
     "output_type": "stream",
     "text": [
      "{'n_estimators': 200, 'min_samples_split': 5, 'min_samples_leaf': 4, 'max_features': 'auto', 'max_depth': 10, 'bootstrap': True}\n"
     ]
    }
   ],
   "source": [
    "print(rf_random.best_params_)"
   ]
  },
  {
   "cell_type": "code",
   "execution_count": 48,
   "id": "69700384",
   "metadata": {},
   "outputs": [
    {
     "name": "stdout",
     "output_type": "stream",
     "text": [
      "f1_score :   0.5850468057634182\n"
     ]
    }
   ],
   "source": [
    "rf = RandomForestClassifier(n_estimators= 200, min_samples_split=5, min_samples_leaf=4, max_features='auto', max_depth=10, bootstrap=True)\n",
    "rf.fit(x_train,y_train)\n",
    "pred_rf = rf.predict(x_test)\n",
    "\n",
    "f1_rf = f1_score(y_test, pred_rf, average='macro')\n",
    "\n",
    "print('f1_score :  ', f1_rf)"
   ]
  },
  {
   "cell_type": "code",
   "execution_count": 49,
   "id": "9235d122",
   "metadata": {},
   "outputs": [],
   "source": [
    "rf = RandomForestClassifier(n_estimators= 200, min_samples_split=5, min_samples_leaf=4, max_features='auto', max_depth=10, bootstrap=True)\n",
    "rf.fit(x_train,y_train)\n",
    "\n",
    "pred_rf = rf.predict(test_features_scaled)"
   ]
  },
  {
   "cell_type": "code",
   "execution_count": 50,
   "id": "ed714502",
   "metadata": {},
   "outputs": [],
   "source": [
    "df_rf = pd.DataFrame({'ID': testData['ID'],'Is_Churn': pred_rf})\n",
    "df_rf.to_csv('RFClassify.csv', index=False)"
   ]
  },
  {
   "cell_type": "markdown",
   "id": "5b7249f4",
   "metadata": {},
   "source": [
    "#### Ada Boost"
   ]
  },
  {
   "cell_type": "code",
   "execution_count": 51,
   "id": "0f385a65",
   "metadata": {},
   "outputs": [
    {
     "name": "stdout",
     "output_type": "stream",
     "text": [
      "Fitting 5 folds for each of 224 candidates, totalling 1120 fits\n",
      "0.6164690012410297\n"
     ]
    }
   ],
   "source": [
    "parameters = {\n",
    "    'n_estimators': [1, 2, 3, 4, 5, 6, 7, 8, 9, 10, 11, 12, 20, 30],\n",
    "    'learning_rate': [(0.97 + x / 100) for x in range(0, 8)],\n",
    "    'algorithm': ['SAMME', 'SAMME.R']   \n",
    "}\n",
    "\n",
    "abc = AdaBoostClassifier()\n",
    "clf = GridSearchCV(abc, parameters, cv=5, verbose=True, n_jobs=-1)\n",
    "clf.fit(x_train, y_train)\n",
    "print(clf.best_score_)"
   ]
  },
  {
   "cell_type": "code",
   "execution_count": 52,
   "id": "86b5a603",
   "metadata": {},
   "outputs": [
    {
     "name": "stdout",
     "output_type": "stream",
     "text": [
      "{'algorithm': 'SAMME', 'learning_rate': 1.03, 'n_estimators': 10}\n"
     ]
    }
   ],
   "source": [
    "print(clf.best_params_)"
   ]
  },
  {
   "cell_type": "code",
   "execution_count": 54,
   "id": "94ea76cc",
   "metadata": {},
   "outputs": [
    {
     "name": "stdout",
     "output_type": "stream",
     "text": [
      "f1_score :   0.5763734090218132\n"
     ]
    }
   ],
   "source": [
    "abc = AdaBoostClassifier(algorithm='SAMME', learning_rate=1.03, n_estimators=10)\n",
    "abc.fit(x_train, y_train)\n",
    "pred_abc = abc.predict(x_test)\n",
    "\n",
    "f1_abc = f1_score(y_test, pred_abc, average='macro')\n",
    "\n",
    "print('f1_score :  ', f1_abc)"
   ]
  },
  {
   "cell_type": "code",
   "execution_count": 55,
   "id": "2019e4e2",
   "metadata": {},
   "outputs": [],
   "source": [
    "abc = AdaBoostClassifier(algorithm='SAMME', learning_rate=1.03, n_estimators=10)\n",
    "abc.fit(x_train,y_train)\n",
    "\n",
    "pred_abc = abc.predict(test_features_scaled)"
   ]
  },
  {
   "cell_type": "code",
   "execution_count": 56,
   "id": "4ba0e7e6",
   "metadata": {},
   "outputs": [],
   "source": [
    "df_abc = pd.DataFrame({'ID': testData['ID'],'Is_Churn': pred_abc})\n",
    "df_abc.to_csv('ABClassify.csv', index=False)"
   ]
  },
  {
   "cell_type": "code",
   "execution_count": null,
   "id": "93b12b68",
   "metadata": {},
   "outputs": [],
   "source": []
  }
 ],
 "metadata": {
  "kernelspec": {
   "display_name": "Python 3 (ipykernel)",
   "language": "python",
   "name": "python3"
  },
  "language_info": {
   "codemirror_mode": {
    "name": "ipython",
    "version": 3
   },
   "file_extension": ".py",
   "mimetype": "text/x-python",
   "name": "python",
   "nbconvert_exporter": "python",
   "pygments_lexer": "ipython3",
   "version": "3.9.7"
  }
 },
 "nbformat": 4,
 "nbformat_minor": 5
}
